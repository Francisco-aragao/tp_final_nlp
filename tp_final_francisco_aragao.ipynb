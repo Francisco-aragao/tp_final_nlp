{
 "cells": [
  {
   "cell_type": "markdown",
   "metadata": {},
   "source": [
    "## Francisco Teixeira Rocha Aragão 2021031726\n",
    "\n",
    "Vídeo de apresentação: https://youtu.be/RQUohFh8D98\n",
    "\n",
    "## Introdução\n",
    "\n",
    "O trabalho busca trabalhar com a tarefa de classificação de gêneros de animes baseado na descrição textual (sinopse). O dataset utilizado  (https://www.kaggle.com/datasets/dbdmobile/myanimelist-dataset?resource=download&select=anime-dataset-2023.csv) é composto de mais de 24 mil animes, com diferentes colunas descrevendo cada obra, porém no trabalho o foco será na coluna \"genre\" e \"synopsis\".\n",
    "\n",
    "## Metodologia\n",
    "\n",
    "Foram testados 3 casos diferentes para realizar a classificação:\n",
    "\n",
    "- Modelo base padrão: O modelo escolhido foi o Deberta Large (https://huggingface.co/MoritzLaurer/deberta-v3-large-zeroshot-v2.0) disponível no Hugging Faces, que é utilizado em tarefas de classificação de texto.\n",
    "\n",
    "- Modelo treinado com os dados do dataset: O mesmo modelo foi treinado agora para a tarefa específica do trabalho, em que foi realizado o fine-tunning, com apenas a última camada sendo treinada.\n",
    "\n",
    "- Modelo base padrão + contexto adicional: O mesmo modelo base foi utilizado para classificação. No entanto, o texto passado ao modelo agora contem também informações adicionais sobre cada gênero, com um maior contexto das palavras mais utilizadas em cada caso. Essa tarefa foi feita utilizando a técnica de TF-IDF.\n",
    "\n",
    "## Resultados\n",
    "\n",
    "Os resultados, juntamente do código estão disponíveis abaixo. \n",
    "\n",
    "- Modelo base: \n",
    "    - Acurácia em todas as tags: 32%\n",
    "    - Acurácia em pelo menos uma tag: 43%\n",
    "\n",
    "- Modelo treinado:\n",
    "    - Acurácia em todas as tags: 26%\n",
    "    - Acurácia em pelo menos uma tag: 36%\n",
    "\n",
    "- Modelo com contexto adicional: \n",
    "    - Acurácia em todas as tags: 36%\n",
    "    - Acurácia em pelo menos uma tag: 50%\n",
    "\n",
    "## Conclusão\n",
    "\n",
    "Percebe-se como, de modo geral, a tarefa de classificação de animes foi muito específica para o modelo, não possuindo bons resultados de modo geral. Desse modo, o modelo base não conseguiu boa performance, acertando menos da metade dos gêneros (mesmo ao considerar como acerto pelo menos um gênero correto). O modelo treinado obteve resultados piores, o que pode ser explicado pela falta de dados para treinamento, além da complexidade de treinar um modelo tão grande. Trabalhos futuros podem focar nessa tarefa, buscando os melhores parâmetros para treinamento, além de alocarem mais recursos para a tarefa. Já o modelo com contexto adicional obteve os melhores resultados. Percebe-se que a adição de contexto adicional foi uma estratégia importante, conseguindo 50% de acurácia ao considerar um acerto quando pelo menos um dos gêneros é classificado corretamente. Desse modo, a estratégia de TF-IDF mostrou-se útil para extrair as palavras mais importantes em cada gênero, sendo um contexto adicional útil para auxiliar a classificação."
   ]
  },
  {
   "cell_type": "code",
   "execution_count": 1,
   "metadata": {},
   "outputs": [
    {
     "name": "stderr",
     "output_type": "stream",
     "text": [
      "/home/grad/ccomp/22/gabriel.cardoso/gt-crivo/nlp/.venv/lib/python3.10/site-packages/tqdm/auto.py:21: TqdmWarning: IProgress not found. Please update jupyter and ipywidgets. See https://ipywidgets.readthedocs.io/en/stable/user_install.html\n",
      "  from .autonotebook import tqdm as notebook_tqdm\n",
      "2025-01-31 13:09:48.064832: E external/local_xla/xla/stream_executor/cuda/cuda_fft.cc:477] Unable to register cuFFT factory: Attempting to register factory for plugin cuFFT when one has already been registered\n",
      "WARNING: All log messages before absl::InitializeLog() is called are written to STDERR\n",
      "E0000 00:00:1738328988.111689   86860 cuda_dnn.cc:8310] Unable to register cuDNN factory: Attempting to register factory for plugin cuDNN when one has already been registered\n",
      "E0000 00:00:1738328988.124981   86860 cuda_blas.cc:1418] Unable to register cuBLAS factory: Attempting to register factory for plugin cuBLAS when one has already been registered\n",
      "2025-01-31 13:09:48.234554: I tensorflow/core/platform/cpu_feature_guard.cc:210] This TensorFlow binary is optimized to use available CPU instructions in performance-critical operations.\n",
      "To enable the following instructions: AVX2 FMA, in other operations, rebuild TensorFlow with the appropriate compiler flags.\n",
      "[nltk_data] Downloading package stopwords to\n",
      "[nltk_data]     /home/grad/ccomp/21/franciscoaragao/nltk_data...\n",
      "[nltk_data]   Package stopwords is already up-to-date!\n"
     ]
    }
   ],
   "source": [
    "import pandas as pd # lidar com dataset\n",
    "from datasets import Dataset # organizar dados para treino\n",
    "from transformers import AutoTokenizer, AutoModelForSequenceClassification, TrainingArguments, Trainer, pipeline # utilização dos modelos\n",
    "import json # salvar resultados\n",
    "from tqdm import tqdm # ver progresso do treinamento\n",
    "from sklearn.feature_extraction.text import TfidfVectorizer # tf-idf para auxiliar classificação dos conteudos\n",
    "from collections import defaultdict # organização dos dados\n",
    "import nltk # preprocessamento de texto\n",
    "from nltk.corpus import stopwords # preprocessamento de texto\n",
    "\n",
    "nltk.download('stopwords') # stopwords em ingles para serem removidas do texto\n",
    "stop_words = set(stopwords.words('english'))"
   ]
  },
  {
   "cell_type": "code",
   "execution_count": 2,
   "metadata": {},
   "outputs": [],
   "source": [
    "# Função para calcular acurácia dos resultados -> acertou todos os generos do anime\n",
    "def calculate_accuracy_all_genres(results):\n",
    "    correct = 0\n",
    "    total = 0\n",
    "\n",
    "    for _, genres in results.items():\n",
    "        for _, result in genres.items():\n",
    "            total += 1\n",
    "            if result == 'correct':\n",
    "                correct += 1\n",
    "\n",
    "    accuracy = correct / total\n",
    "    print(\"Accuracy:\", accuracy)\n",
    "\n",
    "# Função para calcular acurácia dos resultados -> acertou pelo menos um genero do anime\n",
    "def calculate_accuracy_at_least_one_genre(results):\n",
    "    correct = 0\n",
    "    total = 0\n",
    "    for _, genres in results.items():\n",
    "        total += 1\n",
    "        if \"correct\" in genres.values():\n",
    "            correct += 1\n",
    "\n",
    "    accuracy = correct / total\n",
    "    print(\"Accuracy (at least one correct genre):\", accuracy)"
   ]
  },
  {
   "cell_type": "markdown",
   "metadata": {},
   "source": [
    "## Carregando, visualizando e filtrando dados\n"
   ]
  },
  {
   "cell_type": "code",
   "execution_count": 3,
   "metadata": {},
   "outputs": [],
   "source": [
    "# carregando dataset\n",
    "data = pd.read_csv('./data/anime-dataset-2023.csv')\n"
   ]
  },
  {
   "cell_type": "code",
   "execution_count": 4,
   "metadata": {},
   "outputs": [
    {
     "name": "stdout",
     "output_type": "stream",
     "text": [
      "Index(['anime_id', 'Name', 'English name', 'Other name', 'Score', 'Genres',\n",
      "       'Synopsis', 'Type', 'Episodes', 'Aired', 'Premiered', 'Status',\n",
      "       'Producers', 'Licensors', 'Studios', 'Source', 'Duration', 'Rating',\n",
      "       'Rank', 'Popularity', 'Favorites', 'Scored By', 'Members', 'Image URL'],\n",
      "      dtype='object')\n"
     ]
    }
   ],
   "source": [
    "# vendo nome das colunas\n",
    "print(data.columns)"
   ]
  },
  {
   "cell_type": "code",
   "execution_count": 24,
   "metadata": {},
   "outputs": [
    {
     "data": {
      "text/plain": [
       "np.int64(24905)"
      ]
     },
     "execution_count": 24,
     "metadata": {},
     "output_type": "execute_result"
    }
   ],
   "source": [
    "data['anime_id'].count()"
   ]
  },
  {
   "cell_type": "code",
   "execution_count": 5,
   "metadata": {},
   "outputs": [
    {
     "data": {
      "text/html": [
       "<div>\n",
       "<style scoped>\n",
       "    .dataframe tbody tr th:only-of-type {\n",
       "        vertical-align: middle;\n",
       "    }\n",
       "\n",
       "    .dataframe tbody tr th {\n",
       "        vertical-align: top;\n",
       "    }\n",
       "\n",
       "    .dataframe thead th {\n",
       "        text-align: right;\n",
       "    }\n",
       "</style>\n",
       "<table border=\"1\" class=\"dataframe\">\n",
       "  <thead>\n",
       "    <tr style=\"text-align: right;\">\n",
       "      <th></th>\n",
       "      <th>anime_id</th>\n",
       "      <th>Name</th>\n",
       "      <th>English name</th>\n",
       "      <th>Other name</th>\n",
       "      <th>Score</th>\n",
       "      <th>Genres</th>\n",
       "      <th>Synopsis</th>\n",
       "      <th>Type</th>\n",
       "      <th>Episodes</th>\n",
       "      <th>Aired</th>\n",
       "      <th>...</th>\n",
       "      <th>Studios</th>\n",
       "      <th>Source</th>\n",
       "      <th>Duration</th>\n",
       "      <th>Rating</th>\n",
       "      <th>Rank</th>\n",
       "      <th>Popularity</th>\n",
       "      <th>Favorites</th>\n",
       "      <th>Scored By</th>\n",
       "      <th>Members</th>\n",
       "      <th>Image URL</th>\n",
       "    </tr>\n",
       "  </thead>\n",
       "  <tbody>\n",
       "    <tr>\n",
       "      <th>0</th>\n",
       "      <td>1</td>\n",
       "      <td>Cowboy Bebop</td>\n",
       "      <td>Cowboy Bebop</td>\n",
       "      <td>カウボーイビバップ</td>\n",
       "      <td>8.75</td>\n",
       "      <td>Action, Award Winning, Sci-Fi</td>\n",
       "      <td>Crime is timeless. By the year 2071, humanity ...</td>\n",
       "      <td>TV</td>\n",
       "      <td>26.0</td>\n",
       "      <td>Apr 3, 1998 to Apr 24, 1999</td>\n",
       "      <td>...</td>\n",
       "      <td>Sunrise</td>\n",
       "      <td>Original</td>\n",
       "      <td>24 min per ep</td>\n",
       "      <td>R - 17+ (violence &amp; profanity)</td>\n",
       "      <td>41.0</td>\n",
       "      <td>43</td>\n",
       "      <td>78525</td>\n",
       "      <td>914193.0</td>\n",
       "      <td>1771505</td>\n",
       "      <td>https://cdn.myanimelist.net/images/anime/4/196...</td>\n",
       "    </tr>\n",
       "    <tr>\n",
       "      <th>1</th>\n",
       "      <td>5</td>\n",
       "      <td>Cowboy Bebop: Tengoku no Tobira</td>\n",
       "      <td>Cowboy Bebop: The Movie</td>\n",
       "      <td>カウボーイビバップ 天国の扉</td>\n",
       "      <td>8.38</td>\n",
       "      <td>Action, Sci-Fi</td>\n",
       "      <td>Another day, another bounty—such is the life o...</td>\n",
       "      <td>Movie</td>\n",
       "      <td>1.0</td>\n",
       "      <td>Sep 1, 2001</td>\n",
       "      <td>...</td>\n",
       "      <td>Bones</td>\n",
       "      <td>Original</td>\n",
       "      <td>1 hr 55 min</td>\n",
       "      <td>R - 17+ (violence &amp; profanity)</td>\n",
       "      <td>189.0</td>\n",
       "      <td>602</td>\n",
       "      <td>1448</td>\n",
       "      <td>206248.0</td>\n",
       "      <td>360978</td>\n",
       "      <td>https://cdn.myanimelist.net/images/anime/1439/...</td>\n",
       "    </tr>\n",
       "    <tr>\n",
       "      <th>2</th>\n",
       "      <td>6</td>\n",
       "      <td>Trigun</td>\n",
       "      <td>Trigun</td>\n",
       "      <td>トライガン</td>\n",
       "      <td>8.22</td>\n",
       "      <td>Action, Adventure, Sci-Fi</td>\n",
       "      <td>Vash the Stampede is the man with a $$60,000,0...</td>\n",
       "      <td>TV</td>\n",
       "      <td>26.0</td>\n",
       "      <td>Apr 1, 1998 to Sep 30, 1998</td>\n",
       "      <td>...</td>\n",
       "      <td>Madhouse</td>\n",
       "      <td>Manga</td>\n",
       "      <td>24 min per ep</td>\n",
       "      <td>PG-13 - Teens 13 or older</td>\n",
       "      <td>328.0</td>\n",
       "      <td>246</td>\n",
       "      <td>15035</td>\n",
       "      <td>356739.0</td>\n",
       "      <td>727252</td>\n",
       "      <td>https://cdn.myanimelist.net/images/anime/7/203...</td>\n",
       "    </tr>\n",
       "    <tr>\n",
       "      <th>3</th>\n",
       "      <td>7</td>\n",
       "      <td>Witch Hunter Robin</td>\n",
       "      <td>Witch Hunter Robin</td>\n",
       "      <td>Witch Hunter ROBIN (ウイッチハンターロビン)</td>\n",
       "      <td>7.25</td>\n",
       "      <td>Action, Drama, Mystery, Supernatural</td>\n",
       "      <td>Robin Sena is a powerful craft user drafted in...</td>\n",
       "      <td>TV</td>\n",
       "      <td>26.0</td>\n",
       "      <td>Jul 3, 2002 to Dec 25, 2002</td>\n",
       "      <td>...</td>\n",
       "      <td>Sunrise</td>\n",
       "      <td>Original</td>\n",
       "      <td>25 min per ep</td>\n",
       "      <td>PG-13 - Teens 13 or older</td>\n",
       "      <td>2764.0</td>\n",
       "      <td>1795</td>\n",
       "      <td>613</td>\n",
       "      <td>42829.0</td>\n",
       "      <td>111931</td>\n",
       "      <td>https://cdn.myanimelist.net/images/anime/10/19...</td>\n",
       "    </tr>\n",
       "    <tr>\n",
       "      <th>4</th>\n",
       "      <td>8</td>\n",
       "      <td>Bouken Ou Beet</td>\n",
       "      <td>Beet the Vandel Buster</td>\n",
       "      <td>冒険王ビィト</td>\n",
       "      <td>6.94</td>\n",
       "      <td>Adventure, Fantasy, Supernatural</td>\n",
       "      <td>It is the dark century and the people are suff...</td>\n",
       "      <td>TV</td>\n",
       "      <td>52.0</td>\n",
       "      <td>Sep 30, 2004 to Sep 29, 2005</td>\n",
       "      <td>...</td>\n",
       "      <td>Toei Animation</td>\n",
       "      <td>Manga</td>\n",
       "      <td>23 min per ep</td>\n",
       "      <td>PG - Children</td>\n",
       "      <td>4240.0</td>\n",
       "      <td>5126</td>\n",
       "      <td>14</td>\n",
       "      <td>6413.0</td>\n",
       "      <td>15001</td>\n",
       "      <td>https://cdn.myanimelist.net/images/anime/7/215...</td>\n",
       "    </tr>\n",
       "  </tbody>\n",
       "</table>\n",
       "<p>5 rows × 24 columns</p>\n",
       "</div>"
      ],
      "text/plain": [
       "   anime_id                             Name             English name  \\\n",
       "0         1                     Cowboy Bebop             Cowboy Bebop   \n",
       "1         5  Cowboy Bebop: Tengoku no Tobira  Cowboy Bebop: The Movie   \n",
       "2         6                           Trigun                   Trigun   \n",
       "3         7               Witch Hunter Robin       Witch Hunter Robin   \n",
       "4         8                   Bouken Ou Beet   Beet the Vandel Buster   \n",
       "\n",
       "                         Other name Score  \\\n",
       "0                         カウボーイビバップ  8.75   \n",
       "1                    カウボーイビバップ 天国の扉  8.38   \n",
       "2                             トライガン  8.22   \n",
       "3  Witch Hunter ROBIN (ウイッチハンターロビン)  7.25   \n",
       "4                            冒険王ビィト  6.94   \n",
       "\n",
       "                                 Genres  \\\n",
       "0         Action, Award Winning, Sci-Fi   \n",
       "1                        Action, Sci-Fi   \n",
       "2             Action, Adventure, Sci-Fi   \n",
       "3  Action, Drama, Mystery, Supernatural   \n",
       "4      Adventure, Fantasy, Supernatural   \n",
       "\n",
       "                                            Synopsis   Type Episodes  \\\n",
       "0  Crime is timeless. By the year 2071, humanity ...     TV     26.0   \n",
       "1  Another day, another bounty—such is the life o...  Movie      1.0   \n",
       "2  Vash the Stampede is the man with a $$60,000,0...     TV     26.0   \n",
       "3  Robin Sena is a powerful craft user drafted in...     TV     26.0   \n",
       "4  It is the dark century and the people are suff...     TV     52.0   \n",
       "\n",
       "                          Aired  ...         Studios    Source       Duration  \\\n",
       "0   Apr 3, 1998 to Apr 24, 1999  ...         Sunrise  Original  24 min per ep   \n",
       "1                   Sep 1, 2001  ...           Bones  Original    1 hr 55 min   \n",
       "2   Apr 1, 1998 to Sep 30, 1998  ...        Madhouse     Manga  24 min per ep   \n",
       "3   Jul 3, 2002 to Dec 25, 2002  ...         Sunrise  Original  25 min per ep   \n",
       "4  Sep 30, 2004 to Sep 29, 2005  ...  Toei Animation     Manga  23 min per ep   \n",
       "\n",
       "                           Rating    Rank Popularity Favorites Scored By  \\\n",
       "0  R - 17+ (violence & profanity)    41.0         43     78525  914193.0   \n",
       "1  R - 17+ (violence & profanity)   189.0        602      1448  206248.0   \n",
       "2       PG-13 - Teens 13 or older   328.0        246     15035  356739.0   \n",
       "3       PG-13 - Teens 13 or older  2764.0       1795       613   42829.0   \n",
       "4                   PG - Children  4240.0       5126        14    6413.0   \n",
       "\n",
       "   Members                                          Image URL  \n",
       "0  1771505  https://cdn.myanimelist.net/images/anime/4/196...  \n",
       "1   360978  https://cdn.myanimelist.net/images/anime/1439/...  \n",
       "2   727252  https://cdn.myanimelist.net/images/anime/7/203...  \n",
       "3   111931  https://cdn.myanimelist.net/images/anime/10/19...  \n",
       "4    15001  https://cdn.myanimelist.net/images/anime/7/215...  \n",
       "\n",
       "[5 rows x 24 columns]"
      ]
     },
     "execution_count": 5,
     "metadata": {},
     "output_type": "execute_result"
    }
   ],
   "source": [
    "data.head(5)"
   ]
  },
  {
   "cell_type": "code",
   "execution_count": 6,
   "metadata": {},
   "outputs": [
    {
     "data": {
      "text/html": [
       "<div>\n",
       "<style scoped>\n",
       "    .dataframe tbody tr th:only-of-type {\n",
       "        vertical-align: middle;\n",
       "    }\n",
       "\n",
       "    .dataframe tbody tr th {\n",
       "        vertical-align: top;\n",
       "    }\n",
       "\n",
       "    .dataframe thead th {\n",
       "        text-align: right;\n",
       "    }\n",
       "</style>\n",
       "<table border=\"1\" class=\"dataframe\">\n",
       "  <thead>\n",
       "    <tr style=\"text-align: right;\">\n",
       "      <th></th>\n",
       "      <th>anime_id</th>\n",
       "      <th>Name</th>\n",
       "      <th>Genres</th>\n",
       "      <th>Synopsis</th>\n",
       "    </tr>\n",
       "  </thead>\n",
       "  <tbody>\n",
       "    <tr>\n",
       "      <th>0</th>\n",
       "      <td>1</td>\n",
       "      <td>Cowboy Bebop</td>\n",
       "      <td>Action, Award Winning, Sci-Fi</td>\n",
       "      <td>Crime is timeless. By the year 2071, humanity ...</td>\n",
       "    </tr>\n",
       "    <tr>\n",
       "      <th>1</th>\n",
       "      <td>5</td>\n",
       "      <td>Cowboy Bebop: Tengoku no Tobira</td>\n",
       "      <td>Action, Sci-Fi</td>\n",
       "      <td>Another day, another bounty—such is the life o...</td>\n",
       "    </tr>\n",
       "    <tr>\n",
       "      <th>2</th>\n",
       "      <td>6</td>\n",
       "      <td>Trigun</td>\n",
       "      <td>Action, Adventure, Sci-Fi</td>\n",
       "      <td>Vash the Stampede is the man with a $$60,000,0...</td>\n",
       "    </tr>\n",
       "    <tr>\n",
       "      <th>3</th>\n",
       "      <td>7</td>\n",
       "      <td>Witch Hunter Robin</td>\n",
       "      <td>Action, Drama, Mystery, Supernatural</td>\n",
       "      <td>Robin Sena is a powerful craft user drafted in...</td>\n",
       "    </tr>\n",
       "    <tr>\n",
       "      <th>4</th>\n",
       "      <td>8</td>\n",
       "      <td>Bouken Ou Beet</td>\n",
       "      <td>Adventure, Fantasy, Supernatural</td>\n",
       "      <td>It is the dark century and the people are suff...</td>\n",
       "    </tr>\n",
       "  </tbody>\n",
       "</table>\n",
       "</div>"
      ],
      "text/plain": [
       "   anime_id                             Name  \\\n",
       "0         1                     Cowboy Bebop   \n",
       "1         5  Cowboy Bebop: Tengoku no Tobira   \n",
       "2         6                           Trigun   \n",
       "3         7               Witch Hunter Robin   \n",
       "4         8                   Bouken Ou Beet   \n",
       "\n",
       "                                 Genres  \\\n",
       "0         Action, Award Winning, Sci-Fi   \n",
       "1                        Action, Sci-Fi   \n",
       "2             Action, Adventure, Sci-Fi   \n",
       "3  Action, Drama, Mystery, Supernatural   \n",
       "4      Adventure, Fantasy, Supernatural   \n",
       "\n",
       "                                            Synopsis  \n",
       "0  Crime is timeless. By the year 2071, humanity ...  \n",
       "1  Another day, another bounty—such is the life o...  \n",
       "2  Vash the Stampede is the man with a $$60,000,0...  \n",
       "3  Robin Sena is a powerful craft user drafted in...  \n",
       "4  It is the dark century and the people are suff...  "
      ]
     },
     "execution_count": 6,
     "metadata": {},
     "output_type": "execute_result"
    }
   ],
   "source": [
    "# Utilizando apenas as colunas que serão importantes para a classificação \n",
    "data = data[['anime_id', 'Name', 'Genres', 'Synopsis']]\n",
    "\n",
    "data.head()"
   ]
  },
  {
   "cell_type": "code",
   "execution_count": 7,
   "metadata": {},
   "outputs": [],
   "source": [
    "# preprocessamento da coluna de generos dos animes, removendo espaços, separando informações e deixando minusculo\n",
    "\n",
    "data['Genres'] = data['Genres'].apply(lambda x: x.replace(' ', '').lower())\n",
    "data['Genres'] = data['Genres'].str.split(', ')"
   ]
  },
  {
   "cell_type": "code",
   "execution_count": 8,
   "metadata": {},
   "outputs": [],
   "source": [
    "# preprocessamento do campo de sinopse, deixando minusculo e removendo stopwords -> deixando apenas palaras mais importantes e menos comuns\n",
    "\n",
    "data['Synopsis'] = data['Synopsis'].str.lower()\n",
    "\n",
    "def remove_stopwords(text):\n",
    "    words = text.split()\n",
    "    filtered_words = [word for word in words if word not in stop_words]\n",
    "    return ' '.join(filtered_words)\n",
    "\n",
    "# remove stopwords in synopsis\n",
    "data['Synopsis'] = data['Synopsis'].str.lower().apply(remove_stopwords)"
   ]
  },
  {
   "cell_type": "code",
   "execution_count": 9,
   "metadata": {},
   "outputs": [
    {
     "data": {
      "text/html": [
       "<div>\n",
       "<style scoped>\n",
       "    .dataframe tbody tr th:only-of-type {\n",
       "        vertical-align: middle;\n",
       "    }\n",
       "\n",
       "    .dataframe tbody tr th {\n",
       "        vertical-align: top;\n",
       "    }\n",
       "\n",
       "    .dataframe thead th {\n",
       "        text-align: right;\n",
       "    }\n",
       "</style>\n",
       "<table border=\"1\" class=\"dataframe\">\n",
       "  <thead>\n",
       "    <tr style=\"text-align: right;\">\n",
       "      <th></th>\n",
       "      <th>anime_id</th>\n",
       "      <th>Name</th>\n",
       "      <th>Genres</th>\n",
       "      <th>Synopsis</th>\n",
       "    </tr>\n",
       "  </thead>\n",
       "  <tbody>\n",
       "    <tr>\n",
       "      <th>0</th>\n",
       "      <td>1</td>\n",
       "      <td>Cowboy Bebop</td>\n",
       "      <td>[action,awardwinning,sci-fi]</td>\n",
       "      <td>crime timeless. year 2071, humanity expanded a...</td>\n",
       "    </tr>\n",
       "    <tr>\n",
       "      <th>1</th>\n",
       "      <td>5</td>\n",
       "      <td>Cowboy Bebop: Tengoku no Tobira</td>\n",
       "      <td>[action,sci-fi]</td>\n",
       "      <td>another day, another bounty—such life often un...</td>\n",
       "    </tr>\n",
       "    <tr>\n",
       "      <th>2</th>\n",
       "      <td>6</td>\n",
       "      <td>Trigun</td>\n",
       "      <td>[action,adventure,sci-fi]</td>\n",
       "      <td>vash stampede man $$60,000,000,000 bounty head...</td>\n",
       "    </tr>\n",
       "    <tr>\n",
       "      <th>3</th>\n",
       "      <td>7</td>\n",
       "      <td>Witch Hunter Robin</td>\n",
       "      <td>[action,drama,mystery,supernatural]</td>\n",
       "      <td>robin sena powerful craft user drafted stnj—a ...</td>\n",
       "    </tr>\n",
       "    <tr>\n",
       "      <th>4</th>\n",
       "      <td>8</td>\n",
       "      <td>Bouken Ou Beet</td>\n",
       "      <td>[adventure,fantasy,supernatural]</td>\n",
       "      <td>dark century people suffering rule devil, vand...</td>\n",
       "    </tr>\n",
       "    <tr>\n",
       "      <th>5</th>\n",
       "      <td>15</td>\n",
       "      <td>Eyeshield 21</td>\n",
       "      <td>[sports]</td>\n",
       "      <td>shy, reserved, small-statured, deimon high sch...</td>\n",
       "    </tr>\n",
       "    <tr>\n",
       "      <th>6</th>\n",
       "      <td>16</td>\n",
       "      <td>Hachimitsu to Clover</td>\n",
       "      <td>[comedy,drama,romance]</td>\n",
       "      <td>yuuta takemoto, sophomore arts college, shares...</td>\n",
       "    </tr>\n",
       "    <tr>\n",
       "      <th>7</th>\n",
       "      <td>17</td>\n",
       "      <td>Hungry Heart: Wild Striker</td>\n",
       "      <td>[comedy,sliceoflife,sports]</td>\n",
       "      <td>younger brother japanese soccer star seisuke k...</td>\n",
       "    </tr>\n",
       "    <tr>\n",
       "      <th>8</th>\n",
       "      <td>18</td>\n",
       "      <td>Initial D Fourth Stage</td>\n",
       "      <td>[action,drama]</td>\n",
       "      <td>takumi fujiwara finally joins ryousuke keisuke...</td>\n",
       "    </tr>\n",
       "    <tr>\n",
       "      <th>9</th>\n",
       "      <td>19</td>\n",
       "      <td>Monster</td>\n",
       "      <td>[drama,mystery,suspense]</td>\n",
       "      <td>dr. kenzou tenma, elite neurosurgeon recently ...</td>\n",
       "    </tr>\n",
       "  </tbody>\n",
       "</table>\n",
       "</div>"
      ],
      "text/plain": [
       "   anime_id                             Name  \\\n",
       "0         1                     Cowboy Bebop   \n",
       "1         5  Cowboy Bebop: Tengoku no Tobira   \n",
       "2         6                           Trigun   \n",
       "3         7               Witch Hunter Robin   \n",
       "4         8                   Bouken Ou Beet   \n",
       "5        15                     Eyeshield 21   \n",
       "6        16             Hachimitsu to Clover   \n",
       "7        17       Hungry Heart: Wild Striker   \n",
       "8        18           Initial D Fourth Stage   \n",
       "9        19                          Monster   \n",
       "\n",
       "                                Genres  \\\n",
       "0         [action,awardwinning,sci-fi]   \n",
       "1                      [action,sci-fi]   \n",
       "2            [action,adventure,sci-fi]   \n",
       "3  [action,drama,mystery,supernatural]   \n",
       "4     [adventure,fantasy,supernatural]   \n",
       "5                             [sports]   \n",
       "6               [comedy,drama,romance]   \n",
       "7          [comedy,sliceoflife,sports]   \n",
       "8                       [action,drama]   \n",
       "9             [drama,mystery,suspense]   \n",
       "\n",
       "                                            Synopsis  \n",
       "0  crime timeless. year 2071, humanity expanded a...  \n",
       "1  another day, another bounty—such life often un...  \n",
       "2  vash stampede man $$60,000,000,000 bounty head...  \n",
       "3  robin sena powerful craft user drafted stnj—a ...  \n",
       "4  dark century people suffering rule devil, vand...  \n",
       "5  shy, reserved, small-statured, deimon high sch...  \n",
       "6  yuuta takemoto, sophomore arts college, shares...  \n",
       "7  younger brother japanese soccer star seisuke k...  \n",
       "8  takumi fujiwara finally joins ryousuke keisuke...  \n",
       "9  dr. kenzou tenma, elite neurosurgeon recently ...  "
      ]
     },
     "execution_count": 9,
     "metadata": {},
     "output_type": "execute_result"
    }
   ],
   "source": [
    "# vendo novo dataset preprocessado\n",
    "\n",
    "data.head(10)"
   ]
  },
  {
   "cell_type": "code",
   "execution_count": 10,
   "metadata": {},
   "outputs": [],
   "source": [
    "# separando dataset em treino e teste\n",
    "# 80% para treino e 20% para teste\n",
    "\n",
    "train = data.sample(frac=0.8, random_state=0)\n",
    "test = data.drop(train.index)"
   ]
  },
  {
   "cell_type": "code",
   "execution_count": 11,
   "metadata": {},
   "outputs": [
    {
     "data": {
      "text/plain": [
       "((24905, 4), (19924, 4), (4981, 4))"
      ]
     },
     "execution_count": 11,
     "metadata": {},
     "output_type": "execute_result"
    }
   ],
   "source": [
    "data.shape, train.shape, test.shape"
   ]
  },
  {
   "cell_type": "code",
   "execution_count": 25,
   "metadata": {},
   "outputs": [
    {
     "name": "stdout",
     "output_type": "stream",
     "text": [
      "['action,awardwinning,sci-fi', 'action,sci-fi', 'action,adventure,sci-fi', 'action,drama,mystery,supernatural', 'adventure,fantasy,supernatural', 'sports', 'comedy,drama,romance', 'comedy,sliceoflife,sports', 'action,drama', 'drama,mystery,suspense']\n",
      "['adventure', 'sliceoflife', 'unknown', 'erotica', 'boyslove', 'romance', 'drama', 'action', 'sci-fi', 'sports', 'mystery', 'comedy', 'awardwinning', 'ecchi', 'supernatural', 'fantasy', 'avantgarde', 'suspense', 'horror', 'girlslove', 'gourmet', 'hentai']\n"
     ]
    }
   ],
   "source": [
    "# organizando os dados para treino -> salvando lista de generos\n",
    "\n",
    "\n",
    "# pegando todos os generos possiveis\n",
    "all_genres = list(data['Genres'].explode().unique())\n",
    "\n",
    "print(all_genres[0:10])\n",
    "\n",
    "genres = set() # organizando dados em um set para evitar repetições\n",
    "for i in all_genres:\n",
    "    genres_separated = i.replace(' ', '').split(',')\n",
    "    for j in genres_separated:\n",
    "        genres.add(j)\n",
    "\n",
    "\n",
    "genres = list(genres) # salvando dados em uma lista pra facilitar o trabalho\n",
    "print(genres)"
   ]
  },
  {
   "cell_type": "code",
   "execution_count": 13,
   "metadata": {},
   "outputs": [
    {
     "name": "stdout",
     "output_type": "stream",
     "text": [
      "22\n"
     ]
    }
   ],
   "source": [
    "print(len(genres))"
   ]
  },
  {
   "cell_type": "code",
   "execution_count": 14,
   "metadata": {},
   "outputs": [
    {
     "name": "stdout",
     "output_type": "stream",
     "text": [
      "moments prior naruto uzumaki's birth, huge demon known kyuubi, nine-tailed fox, attacked konohagakure, hidden leaf village, wreaked havoc. order put end kyuubi's rampage, leader village, fourth hokage, sacrificed life sealed monstrous beast inside newborn naruto. now, naruto hyperactive knuckle-headed ninja still living konohagakure. shunned kyuubi inside him, naruto struggles find place village, burning desire become hokage konohagakure leads great new friends, also deadly foes.\n",
      "---\n",
      "['action,adventure,fantasy']\n"
     ]
    }
   ],
   "source": [
    "# vendo dados que serão utilizados\n",
    "anime_synopsis = test['Synopsis'].iloc[0]\n",
    "anime_genre = test['Genres'].iloc[0]\n",
    "print(anime_synopsis)\n",
    "print(\"---\")\n",
    "print(anime_genre)"
   ]
  },
  {
   "cell_type": "markdown",
   "metadata": {},
   "source": [
    "## Teste 1: Início das classificações -> Modelo base"
   ]
  },
  {
   "cell_type": "code",
   "execution_count": null,
   "metadata": {},
   "outputs": [],
   "source": [
    "zeroshot_classifier = pipeline(\"zero-shot-classification\", model=\"MoritzLaurer/deberta-v3-large-zeroshot-v2.0\")  # change the model identifier here\n"
   ]
  },
  {
   "cell_type": "code",
   "execution_count": null,
   "metadata": {},
   "outputs": [],
   "source": [
    "# realizando tarefa de predição dos gêneros dos animes\n",
    "\n",
    "results = {}\n",
    "\n",
    "# iterando sobre o dataset, coletando informações e construindo texto para ser classificado\n",
    "for index, row in tqdm(test.iterrows(), total=test.shape[0], desc=\"Processing anime\"):\n",
    "    anime_id = row['anime_id']\n",
    "    anime_synopsis = row['Synopsis']\n",
    "    anime_name = row['Name']\n",
    "    anime_genre = row['Genres']\n",
    "\n",
    "    text = 'The anime is called ' + anime_name + '. The synopsis of the anime is: ' + anime_synopsis # texto para ser classificado = nome do anime + sinopse\n",
    "    output = zeroshot_classifier(text, list(genres), multi_label=True) # realizando classificação \n",
    "\n",
    "    # organziando os resultados\n",
    "    anime_genre_len = len(anime_genre.split(','))\n",
    "    top_k_labels_predicted = output['labels'][0:anime_genre_len]\n",
    "\n",
    "    results[anime_id] = {}\n",
    "\n",
    "    for i in range(anime_genre_len): # verificando se resultados foram corretos\n",
    "        genre = anime_genre.split(',')[i].strip()\n",
    "        results[anime_id][genre] = \"error\"\n",
    "        if genre in top_k_labels_predicted: \n",
    "            results[anime_id][genre] = \"correct\"\n",
    "\n",
    "# salvando resultados em um json -> modelo base\n",
    "with open('results_based_model.json', 'w') as f:\n",
    "    json.dump(results, f, indent=4)"
   ]
  },
  {
   "cell_type": "code",
   "execution_count": 15,
   "metadata": {},
   "outputs": [
    {
     "name": "stdout",
     "output_type": "stream",
     "text": [
      "Accuracy: 0.320385012031626\n",
      "Accuracy (at least one correct genre): 0.4364585424613531\n"
     ]
    }
   ],
   "source": [
    "# abrindo resultados e calculando acurácia\n",
    "with open('results_based_model.json') as f:\n",
    "    results_baseline = json.load(f)\n",
    "\n",
    "calculate_accuracy_all_genres(results_baseline)\n",
    "\n",
    "calculate_accuracy_at_least_one_genre(results_baseline)"
   ]
  },
  {
   "cell_type": "markdown",
   "metadata": {},
   "source": [
    "## Teste 2: Iniciando processo de treinamento -> Fine-tuning"
   ]
  },
  {
   "cell_type": "code",
   "execution_count": 16,
   "metadata": {},
   "outputs": [
    {
     "name": "stdout",
     "output_type": "stream",
     "text": [
      "Unique genres: ['action', 'adventure', 'avantgarde', 'awardwinning', 'boyslove', 'comedy', 'drama', 'ecchi', 'erotica', 'fantasy', 'girlslove', 'gourmet', 'hentai', 'horror', 'mystery', 'romance', 'sci-fi', 'sliceoflife', 'sports', 'supernatural', 'suspense', 'unknown']\n"
     ]
    }
   ],
   "source": [
    "# organizando generos dos animes\n",
    "unique_genres = sorted(genres)\n",
    "\n",
    "print(\"Unique genres:\", unique_genres)"
   ]
  },
  {
   "cell_type": "code",
   "execution_count": 17,
   "metadata": {},
   "outputs": [],
   "source": [
    "\n",
    "# Função pra preprocessar o dataset e organizar os dados no formato correto para treino -> novo nome das colunas (text e labels)\n",
    "def preprocess(df):\n",
    "    df['text'] = 'The synopsis of the anime is: ' + df['Synopsis']\n",
    "    \n",
    "    # Encode labels as binary vectors\n",
    "    genre_to_id = {genre: idx for idx, genre in enumerate(unique_genres)}\n",
    "    \n",
    "    def encode_labels(genres):\n",
    "        labels = [0] * len(unique_genres)\n",
    "        if isinstance(genres, str): # checando se é string\n",
    "            for genre in genres.split(','):\n",
    "                labels[genre_to_id[genre.strip()]] = 1\n",
    "        return labels\n",
    "    \n",
    "    df['labels'] = df['Genres'].apply(encode_labels)\n",
    "    return df"
   ]
  },
  {
   "cell_type": "code",
   "execution_count": 18,
   "metadata": {},
   "outputs": [
    {
     "name": "stderr",
     "output_type": "stream",
     "text": [
      "Map: 100%|██████████| 19924/19924 [00:03<00:00, 6403.90 examples/s]\n",
      "Map: 100%|██████████| 4981/4981 [00:00<00:00, 6996.66 examples/s]\n"
     ]
    }
   ],
   "source": [
    "# organização dos dados antes de iniciar o treinamento \n",
    "\n",
    "\n",
    "# atualizando datasets de treino e teste\n",
    "train = preprocess(train)\n",
    "test = preprocess(test)\n",
    "\n",
    "# convertendo datasets para o formato do Hugging Face\n",
    "train_dataset = Dataset.from_pandas(train[['text', 'labels']])\n",
    "test_dataset = Dataset.from_pandas(test[['text', 'labels']])\n",
    "\n",
    "# carregando tokenizador\n",
    "model_name = \"MoritzLaurer/deberta-v3-large-zeroshot-v2.0\"\n",
    "tokenizer = AutoTokenizer.from_pretrained(model_name)\n",
    "\n",
    "\n",
    "# função para tokenizar os dados\n",
    "def tokenize(batch):\n",
    "    tokenized = tokenizer(batch['text'], padding=\"max_length\", truncation=True, max_length=512)\n",
    "    tokenized[\"labels\"] = batch[\"labels\"]\n",
    "    return tokenized\n",
    "\n",
    "train_dataset = train_dataset.map(tokenize, batched=True)\n",
    "test_dataset = test_dataset.map(tokenize, batched=True)"
   ]
  },
  {
   "cell_type": "code",
   "execution_count": 8,
   "metadata": {},
   "outputs": [
    {
     "name": "stdout",
     "output_type": "stream",
     "text": [
      "Number of unique genres: 22\n",
      "Unique genres: ['action', 'adventure', 'avantgarde', 'awardwinning', 'boyslove', 'comedy', 'drama', 'ecchi', 'erotica', 'fantasy', 'girlslove', 'gourmet', 'hentai', 'horror', 'mystery', 'romance', 'sci-fi', 'sliceoflife', 'sports', 'supernatural', 'suspense', 'unknown']\n"
     ]
    },
    {
     "name": "stderr",
     "output_type": "stream",
     "text": [
      "Map: 100%|██████████| 19924/19924 [00:03<00:00, 6401.40 examples/s]\n",
      "Map: 100%|██████████| 4981/4981 [00:00<00:00, 5127.72 examples/s]\n",
      "Some weights of DebertaV2ForSequenceClassification were not initialized from the model checkpoint at MoritzLaurer/deberta-v3-large-zeroshot-v2.0 and are newly initialized because the shapes did not match:\n",
      "- classifier.bias: found shape torch.Size([2]) in the checkpoint and torch.Size([22]) in the model instantiated\n",
      "- classifier.weight: found shape torch.Size([2, 1024]) in the checkpoint and torch.Size([22, 1024]) in the model instantiated\n",
      "You should probably TRAIN this model on a down-stream task to be able to use it for predictions and inference.\n",
      "/home/grad/ccomp/22/gabriel.cardoso/gt-crivo/nlp/.venv/lib/python3.10/site-packages/transformers/training_args.py:1575: FutureWarning: `evaluation_strategy` is deprecated and will be removed in version 4.46 of 🤗 Transformers. Use `eval_strategy` instead\n",
      "  warnings.warn(\n"
     ]
    },
    {
     "data": {
      "text/html": [
       "\n",
       "    <div>\n",
       "      \n",
       "      <progress value='12455' max='12455' style='width:300px; height:20px; vertical-align: middle;'></progress>\n",
       "      [12455/12455 1:05:03, Epoch 5/5]\n",
       "    </div>\n",
       "    <table border=\"1\" class=\"dataframe\">\n",
       "  <thead>\n",
       " <tr style=\"text-align: left;\">\n",
       "      <th>Epoch</th>\n",
       "      <th>Training Loss</th>\n",
       "      <th>Validation Loss</th>\n",
       "    </tr>\n",
       "  </thead>\n",
       "  <tbody>\n",
       "    <tr>\n",
       "      <td>1</td>\n",
       "      <td>4.370300</td>\n",
       "      <td>56.320946</td>\n",
       "    </tr>\n",
       "    <tr>\n",
       "      <td>2</td>\n",
       "      <td>35.819700</td>\n",
       "      <td>56.182304</td>\n",
       "    </tr>\n",
       "    <tr>\n",
       "      <td>3</td>\n",
       "      <td>4.494300</td>\n",
       "      <td>7.175587</td>\n",
       "    </tr>\n",
       "    <tr>\n",
       "      <td>4</td>\n",
       "      <td>4.471100</td>\n",
       "      <td>5.201497</td>\n",
       "    </tr>\n",
       "    <tr>\n",
       "      <td>5</td>\n",
       "      <td>9.709200</td>\n",
       "      <td>4.786137</td>\n",
       "    </tr>\n",
       "  </tbody>\n",
       "</table><p>"
      ],
      "text/plain": [
       "<IPython.core.display.HTML object>"
      ]
     },
     "metadata": {},
     "output_type": "display_data"
    },
    {
     "data": {
      "text/plain": [
       "TrainOutput(global_step=12455, training_loss=71.2535333046134, metrics={'train_runtime': 3903.6983, 'train_samples_per_second': 25.519, 'train_steps_per_second': 3.191, 'total_flos': 9.284590283870208e+16, 'train_loss': 71.2535333046134, 'epoch': 5.0})"
      ]
     },
     "execution_count": 8,
     "metadata": {},
     "output_type": "execute_result"
    }
   ],
   "source": [
    "\n",
    "# carregando modelo\n",
    "model = AutoModelForSequenceClassification.from_pretrained(\n",
    "    model_name,\n",
    "    num_labels=len(unique_genres),  # Set to the number of unique genres (42)\n",
    "    ignore_mismatched_sizes=True    # Ignore size mismatches\n",
    ")\n",
    "\n",
    "# congelando os pesos do modelo base -> apenas a última camada será treinada, muito difícil treinar um modelo do zero\n",
    "for param in model.base_model.parameters():\n",
    "    param.requires_grad = False\n",
    "\n",
    "# definindo parâmetros de treinamento\n",
    "training_args = TrainingArguments(\n",
    "    output_dir='./results',\n",
    "    evaluation_strategy=\"epoch\",\n",
    "    save_strategy=\"epoch\",\n",
    "    learning_rate=2e-1,\n",
    "    per_device_train_batch_size=8,\n",
    "    per_device_eval_batch_size=8,\n",
    "    num_train_epochs=3,\n",
    "    weight_decay=0.01,\n",
    "    logging_dir='./logs',\n",
    "    logging_steps=10,\n",
    "    disable_tqdm=False, \n",
    ")\n",
    "\n",
    "trainer = Trainer(\n",
    "    model=model,\n",
    "    args=training_args,\n",
    "    train_dataset=train_dataset,\n",
    "    eval_dataset=test_dataset\n",
    ")\n",
    "\n",
    "# realizando treinamento\n",
    "trainer.train()"
   ]
  },
  {
   "cell_type": "code",
   "execution_count": null,
   "metadata": {},
   "outputs": [],
   "source": [
    "# Salvando modelo treinado\n",
    "model.save_pretrained('./model/fine-tuned-anime-genre-model')\n",
    "tokenizer.save_pretrained('./model/fine-tuned-anime-genre-model')"
   ]
  },
  {
   "cell_type": "code",
   "execution_count": 2,
   "metadata": {},
   "outputs": [],
   "source": [
    "# Carregando modelo treinado\n",
    "model_path = './model/fine-tuned-anime-genre-model'\n",
    "zeroshot_classifier = pipeline(\"zero-shot-classification\", model=model_path)"
   ]
  },
  {
   "cell_type": "code",
   "execution_count": 12,
   "metadata": {},
   "outputs": [
    {
     "name": "stderr",
     "output_type": "stream",
     "text": [
      "Device set to use cuda:0\n",
      "Failed to determine 'entailment' label id from the label2id mapping in the model config. Setting to -1. Define a descriptive label2id mapping in the model config to ensure correct outputs.\n",
      "Processing anime:   0%|          | 0/4981 [00:00<?, ?it/s]/home/grad/ccomp/22/gabriel.cardoso/gt-crivo/nlp/.venv/lib/python3.10/site-packages/transformers/pipelines/zero_shot_classification.py:256: RuntimeWarning: invalid value encountered in divide\n",
      "  scores = np.exp(entail_contr_logits) / np.exp(entail_contr_logits).sum(-1, keepdims=True)\n",
      "Processing anime:   0%|          | 10/4981 [00:04<37:08,  2.23it/s]You seem to be using the pipelines sequentially on GPU. In order to maximize efficiency please use a dataset\n",
      "Processing anime: 100%|██████████| 4981/4981 [37:28<00:00,  2.22it/s]\n"
     ]
    }
   ],
   "source": [
    "# realizando predição com modelo treinado\n",
    "results = {}\n",
    "\n",
    "for index, row in tqdm(test.iterrows(), total=test.shape[0], desc=\"Processing anime\"):\n",
    "    anime_id = row['anime_id']\n",
    "    anime_synopsis = row['Synopsis']\n",
    "    anime_name = row['Name']\n",
    "    anime_genre = row['Genres']\n",
    "\n",
    "    # preparando texto para classificação\n",
    "    text = f\"The anime is called {anime_name}. The synopsis of the anime is: {anime_synopsis}\"\n",
    "\n",
    "    # realizando prediçao\n",
    "    output = zeroshot_classifier(text, unique_genres, multi_label=True)\n",
    "\n",
    "    anime_genre_len = len(anime_genre.split(','))\n",
    "    top_k_labels_predicted = output['labels'][0:anime_genre_len]\n",
    "\n",
    "    # salvando resultados\n",
    "    results[anime_id] = {}\n",
    "    for i in range(anime_genre_len):\n",
    "        genre = anime_genre.split(',')[i].lower()\n",
    "        results[anime_id][genre] = \"error\"\n",
    "        if genre in top_k_labels_predicted:\n",
    "            results[anime_id][genre] = \"correct\"\n",
    "\n",
    "# salvando resultados em arquivo json\n",
    "with open('results_finetuned_model.json', 'w') as f:\n",
    "    json.dump(results, f, indent=4)"
   ]
  },
  {
   "cell_type": "code",
   "execution_count": 19,
   "metadata": {},
   "outputs": [
    {
     "name": "stdout",
     "output_type": "stream",
     "text": [
      "Accuracy: 0.159619571444941\n",
      "Accuracy (at least one correct genre): 0.24894599478016463\n"
     ]
    }
   ],
   "source": [
    "# abrindo resultados e calculando acurácia\n",
    "with open('results_finetuned_model.json') as f:\n",
    "    results_baseline = json.load(f)\n",
    "\n",
    "calculate_accuracy_all_genres(results_baseline)\n",
    "\n",
    "calculate_accuracy_at_least_one_genre(results_baseline)"
   ]
  },
  {
   "cell_type": "code",
   "execution_count": 20,
   "metadata": {},
   "outputs": [
    {
     "name": "stdout",
     "output_type": "stream",
     "text": [
      "Accuracy: 0.26045605591841414\n",
      "Accuracy (at least one correct genre): 0.3631800843204176\n"
     ]
    }
   ],
   "source": [
    "# abrindo resultados e calculando acurácia\n",
    "with open('results_finetuned_2_model.json') as f:\n",
    "    results_baseline = json.load(f)\n",
    "\n",
    "calculate_accuracy_all_genres(results_baseline)\n",
    "\n",
    "calculate_accuracy_at_least_one_genre(results_baseline)"
   ]
  },
  {
   "cell_type": "markdown",
   "metadata": {},
   "source": [
    "## Teste 3: Zero shot -> Adicionando mais contexto no prompt de classificação usando TF-IDF"
   ]
  },
  {
   "cell_type": "code",
   "execution_count": 28,
   "metadata": {},
   "outputs": [
    {
     "name": "stdout",
     "output_type": "stream",
     "text": [
      "['izuku', 'midoriya', 'harekaze', 'lucis', 'caelum', 'condom', 'growlanser', 'hazeru', 'ittoki', 'kengan']\n",
      "['coffy', 'tatsu', 'hetalia', 'meisaku', 'umaru', 'sextuplets', 'takatoshi', 'ashuai', 'kongming', 'lishi']\n",
      "['akb0048', 'bugmin', 'fumoon', 'gasshapon', 'hardians', 'jeon', 'sagisu', 'trinary', 'tuan', 'xiaoer']\n"
     ]
    }
   ],
   "source": [
    "# Organiznado dados para realizar tf-idf e encontrar palavras importantes para cada gênero\n",
    "genre_synopsis = defaultdict(str)\n",
    "\n",
    "for index, row in data.iterrows():\n",
    "    synopsis = row['Synopsis'].lower()\n",
    "    for genre in row['Genres']:\n",
    "        genre = genre.split(',')\n",
    "        for i in genre:\n",
    "            genre_synopsis[i] += \" \" + synopsis\n",
    "\n",
    "# iniciando tf-idf\n",
    "tfidf = TfidfVectorizer(stop_words='english')  # utilizando stopwords em ingles para serem removidas\n",
    "\n",
    "# organizando os dados para realizar tf-idf\n",
    "genre_texts = list(genre_synopsis.values())\n",
    "genre_names = list(genre_synopsis.keys())\n",
    "\n",
    "# realizando tf-idf\n",
    "tfidf_matrix = tfidf.fit_transform(genre_texts)\n",
    "vocab = tfidf.get_feature_names_out()\n",
    "\n",
    "\n",
    "tfidf_array = tfidf_matrix.toarray()\n",
    "word_genre_scores = tfidf_array.T  # Transpondo a matriz para pegar relação palavra-genero. Linha = palavra, colunas = generos\n",
    "\n",
    "# salvando palavras unicas pra cada genero\n",
    "unique_words_per_genre = defaultdict(list)\n",
    "\n",
    "# organizando palavras unicas para cada genero\n",
    "for word_idx, word in enumerate(vocab):\n",
    "    word_scores = word_genre_scores[word_idx]\n",
    "    # pegando palavras com score > 0 -> palavras que são unicas para um genero\n",
    "    non_zero_genres = sum(score > 0 for score in word_scores)\n",
    "    if non_zero_genres == 1:  \n",
    "        genre_idx = word_scores.argmax()  \n",
    "        unique_words_per_genre[genre_names[genre_idx]].append((word, word_scores[genre_idx]))\n",
    "\n",
    "# imprimindo resultados do tf-idf\n",
    "\"\"\" for genre, words in unique_words_per_genre.items():\n",
    "    print(f\"Genre: {genre}\")\n",
    "    print(\"Unique Words:\", [word for word, score in sorted(words, key=lambda x: x[1], reverse=True)])\n",
    "    print() \"\"\"\n",
    "\n",
    "# salvando resultados em um dicionario [genero: [palavras unicas]]\n",
    "unique_words_per_genre_dict = {}\n",
    "# salvando as 10 palavras mais importantes para cada genero\n",
    "for genre, words in unique_words_per_genre.items():\n",
    "    unique_words_per_genre_dict[genre] = [word for word, _ in sorted(words, key=lambda x: x[1], reverse=True)][:10]\n",
    "\n",
    "# imprimindo resultados -> só imprimindo tres generos para não poluir a tela\n",
    "print(unique_words_per_genre_dict['action'])\n",
    "print(unique_words_per_genre_dict['comedy'])\n",
    "print(unique_words_per_genre_dict['sci-fi'])"
   ]
  },
  {
   "cell_type": "code",
   "execution_count": 25,
   "metadata": {},
   "outputs": [
    {
     "name": "stderr",
     "output_type": "stream",
     "text": [
      "Device set to use cuda:0\n",
      "Processing anime:   0%|          | 10/4981 [00:04<35:40,  2.32it/s]You seem to be using the pipelines sequentially on GPU. In order to maximize efficiency please use a dataset\n",
      "Processing anime: 100%|██████████| 4981/4981 [36:57<00:00,  2.25it/s]\n"
     ]
    }
   ],
   "source": [
    "\n",
    "# carregando modelo\n",
    "zeroshot_classifier = pipeline(\"zero-shot-classification\", model=\"MoritzLaurer/deberta-v3-large-zeroshot-v2.0\")  # change the model identifier here\n",
    "\n",
    "# função para adicionar contexto no prompt baseado nas palavras achadas pelo tf-idf pra cada genero\n",
    "# \"enriquecimento de prompt\" -> adiciono informação extra para ajudar o modelo a classificar melhor\n",
    "def add_context_based_on_keywords(synopsis, genre_keywords):\n",
    "    context = \"\"\n",
    "    for genre, keywords in genre_keywords.items():\n",
    "        if any(keyword.lower() in synopsis.lower() for keyword in keywords):\n",
    "            # novo texto a ser adicionado\n",
    "            context += f\" This anime involves {genre.lower()} elements, including {', '.join(keywords)}.\"\n",
    "\n",
    "    return context\n",
    "\n",
    "results = {}\n",
    "\n",
    "for index, row in tqdm(test.iterrows(), total=test.shape[0], desc=\"Processing anime\"):\n",
    "    anime_id = row['anime_id']\n",
    "    anime_synopsis = row['Synopsis']\n",
    "    anime_name = row['Name']\n",
    "    anime_genre = row['Genres']\n",
    "\n",
    "    # pegando novo texto a ser adicionado\n",
    "    augmented_text = add_context_based_on_keywords(anime_synopsis, unique_words_per_genre_dict)\n",
    "\n",
    "    text = 'The anime is called ' + anime_name + '. The synopsis of the anime is: ' + anime_synopsis + \". \" + augmented_text\n",
    "\n",
    "    # predição\n",
    "    output = zeroshot_classifier(text, unique_genres, multi_label=True)\n",
    "\n",
    "    # organizando resultados\n",
    "    anime_genre_len = len(anime_genre[0].split(','))\n",
    "    top_k_labels_predicted = output['labels'][0:anime_genre_len]\n",
    "\n",
    "    results[anime_id] = {}\n",
    "    for i in range(anime_genre_len):\n",
    "        genre = anime_genre[0].split(',')[i].lower()\n",
    "        results[anime_id][genre] = \"error\"\n",
    "        if genre in top_k_labels_predicted:\n",
    "            results[anime_id][genre] = \"correct\"\n",
    "\n",
    "# salvando resultados em um json\n",
    "with open('results_context_classification.json', 'w') as f:\n",
    "    json.dump(results, f, indent=4)"
   ]
  },
  {
   "cell_type": "code",
   "execution_count": 22,
   "metadata": {},
   "outputs": [
    {
     "name": "stdout",
     "output_type": "stream",
     "text": [
      "Accuracy: 0.3667927122722585\n",
      "Accuracy (at least one correct genre): 0.5035133507327846\n"
     ]
    }
   ],
   "source": [
    "# compare the accuracy with the previous model\n",
    "with open('results_context_classification.json') as f:\n",
    "    results_context = json.load(f)\n",
    "\n",
    "calculate_accuracy_all_genres(results_context)\n",
    "\n",
    "calculate_accuracy_at_least_one_genre(results_context)"
   ]
  }
 ],
 "metadata": {
  "kernelspec": {
   "display_name": ".venv",
   "language": "python",
   "name": "python3"
  },
  "language_info": {
   "codemirror_mode": {
    "name": "ipython",
    "version": 3
   },
   "file_extension": ".py",
   "mimetype": "text/x-python",
   "name": "python",
   "nbconvert_exporter": "python",
   "pygments_lexer": "ipython3",
   "version": "3.10.12"
  }
 },
 "nbformat": 4,
 "nbformat_minor": 2
}
